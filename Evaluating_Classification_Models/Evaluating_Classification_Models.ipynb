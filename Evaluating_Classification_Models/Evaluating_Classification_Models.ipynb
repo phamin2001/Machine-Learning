{
 "cells": [
  {
   "cell_type": "markdown",
   "id": "191afca1",
   "metadata": {},
   "source": [
    "# Evaluating Classification Models\n",
    "This notebook demonstrates how to train, evaluate, and compare classification models (KNN and SVM) using the breast cancer dataset. It includes data preprocessing, model training, and comprehensive evaluation metrics analysis."
   ]
  },
  {
   "cell_type": "markdown",
   "id": "d1c59da2",
   "metadata": {},
   "source": [
    "## Objectives\n",
    "- Load and preprocess the breast cancer dataset for classification\n",
    "- Apply feature scaling and add noise to simulate real-world measurement variability\n",
    "- Train and compare K-Nearest Neighbors and Support Vector Machine classifiers\n",
    "- Analyze model performance using multiple evaluation metrics including accuracy, precision, recall, and confusion matrices"
   ]
  },
  {
   "cell_type": "code",
   "execution_count": 1,
   "id": "a4cfce23",
   "metadata": {},
   "outputs": [],
   "source": [
    "# Import essential libraries for data science and machine learning\n",
    "import numpy as np                    # For numerical operations, array handling, and random number generation\n",
    "import pandas as pd                   # For data manipulation, analysis, and DataFrame operations\n",
    "from sklearn.datasets import load_breast_cancer    # Pre-processed breast cancer dataset from UCI\n",
    "from sklearn.preprocessing import StandardScaler   # For feature standardization (mean=0, std=1)\n",
    "from sklearn.model_selection import train_test_split  # For creating train/test splits with stratification\n",
    "from sklearn.neighbors import KNeighborsClassifier    # Instance-based learning with K-Nearest Neighbors\n",
    "from sklearn.svm import SVC                          # Support Vector Machine for classification tasks\n",
    "from sklearn.metrics import accuracy_score, classification_report, confusion_matrix  # Model evaluation tools\n",
    "import matplotlib.pyplot as plt      # For data visualization and creating plots\n",
    "import seaborn as sns                # For enhanced statistical visualizations and heat maps"
   ]
  },
  {
   "cell_type": "code",
   "execution_count": 2,
   "id": "2e945d0b",
   "metadata": {},
   "outputs": [
    {
     "name": "stdout",
     "output_type": "stream",
     "text": [
      "Loaded dataset with 569 samples and 30 features\n",
      "Classes: ['malignant' 'benign']\n",
      "Features include: ['mean radius' 'mean texture' 'mean perimeter' 'mean area'\n",
      " 'mean smoothness'] ... and 25 more\n"
     ]
    }
   ],
   "source": [
    "# Load the Wisconsin Breast Cancer dataset from scikit-learn\n",
    "# This widely-used dataset contains features computed from digitized images of breast mass cell nuclei\n",
    "data = load_breast_cancer()\n",
    "\n",
    "# Extract features (X) and target labels (y)\n",
    "X = data.data                    # Feature matrix: 30 numerical features describing cell nuclei characteristics\n",
    "y = data.target                  # Target vector: 0=malignant (cancerous), 1=benign (non-cancerous)\n",
    "feature_names = data.feature_names  # Names of the 30 features (including radius, texture, perimeter, area, etc.)\n",
    "labels = data.target_names          # Class names: ['malignant', 'benign']\n",
    "\n",
    "# Display basic information about the dataset\n",
    "print('Loaded dataset with', X.shape[0], 'samples and', X.shape[1], 'features')\n",
    "print('Classes:', labels)\n",
    "print('Features include:', feature_names[:5], '... and 25 more')"
   ]
  },
  {
   "cell_type": "code",
   "execution_count": 4,
   "id": "e54ee635",
   "metadata": {},
   "outputs": [
    {
     "name": "stdout",
     "output_type": "stream",
     "text": [
      "Original standardized data (first 5 rows):\n",
      "   mean radius  mean texture  mean perimeter  mean area  mean smoothness  \\\n",
      "0     1.097064     -2.073335        1.269934   0.984375         1.568466   \n",
      "1     1.829821     -0.353632        1.685955   1.908708        -0.826962   \n",
      "2     1.579888      0.456187        1.566503   1.558884         0.942210   \n",
      "3    -0.768909      0.253732       -0.592687  -0.764464         3.283553   \n",
      "4     1.750297     -1.151816        1.776573   1.826229         0.280372   \n",
      "\n",
      "   mean compactness  mean concavity  mean concave points  mean symmetry  \\\n",
      "0          3.283515        2.652874             2.532475       2.217515   \n",
      "1         -0.487072       -0.023846             0.548144       0.001392   \n",
      "2          1.052926        1.363478             2.037231       0.939685   \n",
      "3          3.402909        1.915897             1.451707       2.867383   \n",
      "4          0.539340        1.371011             1.428493      -0.009560   \n",
      "\n",
      "   mean fractal dimension  ...  worst radius  worst texture  worst perimeter  \\\n",
      "0                2.255747  ...      1.886690      -1.359293         2.303601   \n",
      "1               -0.868652  ...      1.805927      -0.369203         1.535126   \n",
      "2               -0.398008  ...      1.511870      -0.023974         1.347475   \n",
      "3                4.910919  ...     -0.281464       0.133984        -0.249939   \n",
      "4               -0.562450  ...      1.298575      -1.466770         1.338539   \n",
      "\n",
      "   worst area  worst smoothness  worst compactness  worst concavity  \\\n",
      "0    2.001237          1.307686           2.616665         2.109526   \n",
      "1    1.890489         -0.375612          -0.430444        -0.146749   \n",
      "2    1.456285          0.527407           1.082932         0.854974   \n",
      "3   -0.550021          3.394275           3.893397         1.989588   \n",
      "4    1.220724          0.220556          -0.313395         0.613179   \n",
      "\n",
      "   worst concave points  worst symmetry  worst fractal dimension  \n",
      "0              2.296076        2.750622                 1.937015  \n",
      "1              1.087084       -0.243890                 0.281190  \n",
      "2              1.955000        1.152255                 0.201391  \n",
      "3              2.175786        6.046041                 4.935010  \n",
      "4              0.729259       -0.868353                -0.397100  \n",
      "\n",
      "[5 rows x 30 columns]\n",
      "\n",
      "Noisy data (first 5 rows):\n",
      "   mean radius  mean texture  mean perimeter  mean area  mean smoothness  \\\n",
      "0     1.345421     -2.142467        1.593778   1.745890         1.451390   \n",
      "1     1.528967      0.572507        1.679206   1.379853        -0.415690   \n",
      "2     1.340301      0.363357        1.013336   0.960780         1.348473   \n",
      "3    -0.720371      0.738055       -0.943714  -0.928295         3.087499   \n",
      "4     2.145813     -1.606510        2.477970   1.125304         0.573800   \n",
      "\n",
      "   mean compactness  mean concavity  mean concave points  mean symmetry  \\\n",
      "0          3.166446        3.442480             2.916193       1.982778   \n",
      "1         -1.097493        0.080586            -0.431691      -0.662701   \n",
      "2          1.731046        1.327473             2.538997       1.120503   \n",
      "3          2.671152        2.063957             1.582235       2.869940   \n",
      "4          1.634568        0.875743             1.145344       0.040265   \n",
      "\n",
      "   mean fractal dimension  ...  worst radius  worst texture  worst perimeter  \\\n",
      "0                2.527027  ...      2.619514      -1.472182         2.337365   \n",
      "1               -0.770222  ...      1.967969      -0.561744         1.196665   \n",
      "2               -0.720568  ...      1.402034       0.154582         2.086422   \n",
      "3                4.793626  ...     -1.240850       0.120727        -0.219824   \n",
      "4               -0.814188  ...      1.412305      -0.813199         0.534798   \n",
      "\n",
      "   worst area  worst smoothness  worst compactness  worst concavity  \\\n",
      "0    1.288863          1.035495           2.672126         1.534030   \n",
      "1    2.196327          0.139888           0.035196        -0.566358   \n",
      "2    1.197149          0.123161           0.832054         1.312675   \n",
      "3    0.681600          3.298094           4.044171         1.972232   \n",
      "4    1.313041          0.350498           0.077517        -0.005297   \n",
      "\n",
      "   worst concave points  worst symmetry  worst fractal dimension  \n",
      "0              2.483925        2.450303                 1.791168  \n",
      "1              0.932478       -0.078258                 0.768963  \n",
      "2              2.119376        0.887375                 0.458025  \n",
      "3              1.591447        6.617453                 5.310977  \n",
      "4              0.069031       -0.607382                -0.248607  \n",
      "\n",
      "[5 rows x 30 columns]\n"
     ]
    }
   ],
   "source": [
    "# Step 1: Standardize the features to have mean=0 and std=1\n",
    "# Standardization is crucial as features have vastly different scales and units of measurement\n",
    "# This ensures all features contribute equally to distance calculations in KNN and SVM\n",
    "scaler = StandardScaler()\n",
    "X_scaled = scaler.fit_transform(X)\n",
    "\n",
    "# Step 2: Add Gaussian noise to simulate real-world measurement errors and data variability\n",
    "# In clinical settings, measurements often contain equipment noise and human measurement error\n",
    "# Adding controlled noise helps evaluate model robustness against real-world variability\n",
    "np.random.seed(42)                   # Set seed for reproducible results\n",
    "noise_factor = 0.5                   # Controls the noise magnitude (0.5 = moderate noise level)\n",
    "noise = np.random.normal(loc=0.0, scale=1.0, size=X.shape)  # Generate Gaussian random noise\n",
    "X_noisy = X_scaled + noise_factor * noise    # Apply noise to the standardized features\n",
    "\n",
    "# Step 3: Create DataFrames for easier data inspection and visualization\n",
    "df_original = pd.DataFrame(X_scaled, columns=feature_names)\n",
    "df_noisy = pd.DataFrame(X_noisy, columns=feature_names)\n",
    "\n",
    "# Display first few rows to compare original and noise-augmented data\n",
    "print(\"Original standardized data (first 5 rows):\")\n",
    "print(df_original.head())\n",
    "\n",
    "print(\"\\nNoisy data (first 5 rows):\")\n",
    "print(df_noisy.head())"
   ]
  },
  {
   "cell_type": "code",
   "execution_count": 5,
   "id": "ba5a631a",
   "metadata": {},
   "outputs": [
    {
     "name": "stdout",
     "output_type": "stream",
     "text": [
      "Training models on 398 samples...\n",
      "✓ KNN model trained\n",
      "✓ SVM model trained\n"
     ]
    }
   ],
   "source": [
    "# Split the noisy dataset into training and testing sets \n",
    "# A 70/30 split balances having enough training data while ensuring robust evaluation\n",
    "X_train, X_test, y_train, y_test = train_test_split(\n",
    "    X_noisy, y, \n",
    "    test_size=0.3,        # Reserve 30% for testing (unbiased performance evaluation)\n",
    "    random_state=42,      # Ensures reproducible train/test splits across runs\n",
    "    stratify=y           # Maintains class distribution in both sets (important for imbalanced data)\n",
    ")\n",
    "\n",
    "# Initialize two different classification algorithms with complementary strengths\n",
    "# 1. K-Nearest Neighbors (KNN): A non-parametric, instance-based learning method\n",
    "# KNN makes predictions based on the majority class of the k closest training samples\n",
    "knn = KNeighborsClassifier(\n",
    "    n_neighbors=5        # k=5 balances between noise sensitivity (k too small) and majority class bias (k too large)\n",
    ")\n",
    "\n",
    "# 2. Support Vector Machine (SVM): A powerful boundary-based classifier\n",
    "# SVM finds the optimal hyperplane that maximizes the margin between classes\n",
    "svm = SVC(\n",
    "    kernel='linear',     # Linear kernel works well for high-dimensional data with good class separation\n",
    "    C=1.0,              # C=1.0 provides balanced regularization (preventing overfitting)\n",
    "    random_state=42     # Ensures reproducible results for non-deterministic aspects\n",
    ")\n",
    "\n",
    "# Train both models on the training data\n",
    "print(\"Training models on\", X_train.shape[0], \"samples...\")\n",
    "knn.fit(X_train, y_train)\n",
    "svm.fit(X_train, y_train)\n",
    "\n",
    "print(\"✓ KNN model trained\")\n",
    "print(\"✓ SVM model trained\")"
   ]
  },
  {
   "cell_type": "code",
   "execution_count": 6,
   "id": "564489ba",
   "metadata": {},
   "outputs": [
    {
     "name": "stdout",
     "output_type": "stream",
     "text": [
      "Making predictions on 171 test samples...\n",
      "KNN Test Accuracy: 0.942 (94.2%)\n",
      "SVM Test Accuracy: 0.930 (93.0%)\n",
      "→ KNN performs better on this dataset by accuracy metric\n",
      "KNN Test Accuracy: 0.942 (94.2%)\n",
      "SVM Test Accuracy: 0.930 (93.0%)\n",
      "→ KNN performs better on this dataset by accuracy metric\n"
     ]
    }
   ],
   "source": [
    "# Apply trained models to make predictions on the unseen test set\n",
    "print(\"Making predictions on\", X_test.shape[0], \"test samples...\")\n",
    "\n",
    "# Generate predictions from both classifier models\n",
    "y_pred_knn = knn.predict(X_test)    # KNN classification results\n",
    "y_pred_svm = svm.predict(X_test)    # SVM classification results\n",
    "\n",
    "# Calculate and display accuracy scores (proportion of correct predictions)\n",
    "# Accuracy = (True Positives + True Negatives) / (Total Samples)\n",
    "# While useful for overall performance, accuracy alone can be misleading for imbalanced classes\n",
    "knn_accuracy = accuracy_score(y_test, y_pred_knn)\n",
    "svm_accuracy = accuracy_score(y_test, y_pred_svm)\n",
    "\n",
    "# Display formatted accuracy results for easy comparison\n",
    "print(f\"KNN Test Accuracy: {knn_accuracy:.3f} ({knn_accuracy*100:.1f}%)\")\n",
    "print(f\"SVM Test Accuracy: {svm_accuracy:.3f} ({svm_accuracy*100:.1f}%)\")\n",
    "\n",
    "# Compare models based on accuracy metric\n",
    "if svm_accuracy > knn_accuracy:\n",
    "    print(\"→ SVM performs better on this dataset by accuracy metric\")\n",
    "elif knn_accuracy > svm_accuracy:\n",
    "    print(\"→ KNN performs better on this dataset by accuracy metric\")\n",
    "\n",
    "else:    print(\"→ Both models perform equally well by accuracy metric\")"
   ]
  },
  {
   "cell_type": "code",
   "execution_count": 8,
   "id": "62f69c73",
   "metadata": {},
   "outputs": [
    {
     "name": "stdout",
     "output_type": "stream",
     "text": [
      "============================================================\n",
      "KNN CLASSIFICATION REPORT\n",
      "============================================================\n",
      "              precision    recall  f1-score   support\n",
      "\n",
      "   malignant       0.92      0.92      0.92        64\n",
      "      benign       0.95      0.95      0.95       107\n",
      "\n",
      "    accuracy                           0.94       171\n",
      "   macro avg       0.94      0.94      0.94       171\n",
      "weighted avg       0.94      0.94      0.94       171\n",
      "\n",
      "\n",
      "============================================================\n",
      "SVM CLASSIFICATION REPORT\n",
      "============================================================\n",
      "              precision    recall  f1-score   support\n",
      "\n",
      "   malignant       0.89      0.92      0.91        64\n",
      "      benign       0.95      0.93      0.94       107\n",
      "\n",
      "    accuracy                           0.93       171\n",
      "   macro avg       0.92      0.93      0.93       171\n",
      "weighted avg       0.93      0.93      0.93       171\n",
      "\n",
      "\n",
      "Key Metrics Explained:\n",
      "• Precision: Ability to avoid false positives - TP/(TP+FP)\n",
      "  (High precision means when the model predicts malignant, it's usually correct)\n",
      "• Recall: Ability to find all positives - TP/(TP+FN)\n",
      "  (High recall means the model catches most malignant cases, critical for medical diagnosis)\n",
      "• F1-Score: Balanced metric combining precision and recall - 2*(Precision*Recall)/(Precision+Recall)\n",
      "• Support: Actual number of samples in each class in the test set\n",
      "  (Higher is better, especially useful when classes are imbalanced)\n"
     ]
    }
   ],
   "source": [
    "# Generate comprehensive classification performance reports for both models\n",
    "# These reports provide deeper insights beyond simple accuracy metrics\n",
    "\n",
    "print(\"=\" * 60)\n",
    "print(\"KNN CLASSIFICATION REPORT\")\n",
    "print(\"=\" * 60)\n",
    "print(classification_report(y_test, y_pred_knn, target_names=labels))\n",
    "\n",
    "print(\"\\n\" + \"=\" * 60)\n",
    "print(\"SVM CLASSIFICATION REPORT\") \n",
    "print(\"=\" * 60)\n",
    "print(classification_report(y_test, y_pred_svm, target_names=labels))\n",
    "\n",
    "print(\"\\nKey Metrics Explained:\")\n",
    "print(\"• Precision: Ability to avoid false positives - TP/(TP+FP)\")\n",
    "print(\"  (High precision means when the model predicts malignant, it's usually correct)\")\n",
    "print(\"• Recall: Ability to find all positives - TP/(TP+FN)\")\n",
    "print(\"  (High recall means the model catches most malignant cases, critical for medical diagnosis)\")\n",
    "\n",
    "print(\"• F1-Score: Balanced metric combining precision and recall - 2*(Precision*Recall)/(Precision+Recall)\")\n",
    "print(\"• Support: Actual number of samples in each class in the test set\")\n",
    "print(\"  (Higher is better, especially useful when classes are imbalanced)\")"
   ]
  },
  {
   "cell_type": "code",
   "execution_count": 11,
   "id": "635f2e6e",
   "metadata": {},
   "outputs": [
    {
     "data": {
      "image/png": "[encoded data removed]",
      "text/plain": [
       "<Figure size 1200x500 with 4 Axes>"
      ]
     },
     "metadata": {},
     "output_type": "display_data"
    },
    {
     "name": "stdout",
     "output_type": "stream",
     "text": [
      "\n",
      "Confusion Matrix Interpretation for Cancer Diagnosis:\n",
      "• Top-left (TN): True Negatives - Correctly identified benign tumors\n",
      "• Top-right (FP): False Positives - Benign tumors incorrectly classified as malignant\n",
      "  (May cause unnecessary stress and treatment, but less dangerous than FN)\n",
      "• Bottom-left (FN): False Negatives - Malignant tumors incorrectly classified as benign\n",
      "  (CRITICAL ERROR: Missed cancer diagnoses could delay treatment and risk patient health)\n",
      "• Bottom-right (TP): True Positives - Correctly identified malignant tumors\n",
      "\n",
      "In medical applications, minimizing False Negatives is typically prioritized over\n",
      "than unnecessarily flagging a benign tumor for further investigation.\n",
      "minimizing False Positives, as missing a cancer diagnosis has more severe consequences\n"
     ]
    }
   ],
   "source": [
    "# Create and visualize confusion matrices for detailed error analysis of both models\n",
    "# Confusion matrices provide the clearest view of where models make specific types of errors\n",
    "\n",
    "# Calculate confusion matrices (2x2 tables of actual vs predicted classes)\n",
    "cm_knn = confusion_matrix(y_test, y_pred_knn)\n",
    "cm_svm = confusion_matrix(y_test, y_pred_svm)\n",
    "\n",
    "# Create side-by-side heatmap visualizations for direct model comparison\n",
    "fig, axes = plt.subplots(1, 2, figsize=(12, 5))\n",
    "\n",
    "# KNN confusion matrix visualization (left subplot)\n",
    "sns.heatmap(cm_knn, annot=True, fmt='d', ax=axes[0], cmap='Blues', \n",
    "            xticklabels=labels, yticklabels=labels, cbar_kws={'label': 'Sample Count'})\n",
    "axes[0].set_title('KNN Confusion Matrix', fontsize=14, fontweight='bold')\n",
    "axes[0].set_xlabel('Predicted Class', fontsize=12)\n",
    "axes[0].set_ylabel('Actual Class', fontsize=12)\n",
    "\n",
    "# SVM confusion matrix visualization (right subplot)\n",
    "sns.heatmap(cm_svm, annot=True, fmt='d', ax=axes[1], cmap='Blues',\n",
    "            xticklabels=labels, yticklabels=labels, cbar_kws={'label': 'Sample Count'})\n",
    "axes[1].set_title('SVM Confusion Matrix', fontsize=14, fontweight='bold')\n",
    "axes[1].set_xlabel('Predicted Class', fontsize=12)\n",
    "axes[1].set_ylabel('Actual Class', fontsize=12)\n",
    "\n",
    "plt.tight_layout()\n",
    "plt.show()\n",
    "\n",
    "# Comprehensive explanation of confusion matrix interpretation for medical context\n",
    "print(\"\\nConfusion Matrix Interpretation for Cancer Diagnosis:\")\n",
    "print(\"• Top-left (TN): True Negatives - Correctly identified benign tumors\")\n",
    "print(\"• Top-right (FP): False Positives - Benign tumors incorrectly classified as malignant\")\n",
    "print(\"  (May cause unnecessary stress and treatment, but less dangerous than FN)\")\n",
    "print(\"• Bottom-left (FN): False Negatives - Malignant tumors incorrectly classified as benign\")\n",
    "print(\"  (CRITICAL ERROR: Missed cancer diagnoses could delay treatment and risk patient health)\")\n",
    "print(\"• Bottom-right (TP): True Positives - Correctly identified malignant tumors\")\n",
    "\n",
    "print(\"\\nIn medical applications, minimizing False Negatives is typically prioritized over\")\n",
    "print(\"than unnecessarily flagging a benign tumor for further investigation.\")\n",
    "print(\"minimizing False Positives, as missing a cancer diagnosis has more severe consequences\")"
   ]
  },
  {
   "cell_type": "markdown",
   "id": "c61e4b38",
   "metadata": {},
   "source": [
    "## Notes\n",
    "- This notebook demonstrates model evaluation techniques applied to breast cancer classification\n",
    "- Run all cells sequentially to see visualizations and complete evaluation metrics\n",
    "\n",
    "- Consider experimenting with different model parameters (e.g., KNN's n_neighbors, SVM's kernel/C) to observe how they affect performance- For real-world applications, cross-validation would provide more robust performance estimates"
   ]
  },
  {
   "cell_type": "markdown",
   "id": "2d98a011",
   "metadata": {},
   "source": []
  }
 ],
 "metadata": {
  "kernelspec": {
   "display_name": "ml",
   "language": "python",
   "name": "python3"
  },
  "language_info": {
   "codemirror_mode": {
    "name": "ipython",
    "version": 3
   },
   "file_extension": ".py",
   "mimetype": "text/x-python",
   "name": "python",
   "nbconvert_exporter": "python",
   "pygments_lexer": "ipython3",
   "version": "3.12.3"
  }
 },
 "nbformat": 4,
 "nbformat_minor": 5
}
