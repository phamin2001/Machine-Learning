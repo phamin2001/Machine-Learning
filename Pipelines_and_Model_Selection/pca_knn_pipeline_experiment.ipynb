{
 "cells": [
  {
   "cell_type": "markdown",
   "id": "a98244a2",
   "metadata": {},
   "source": [
    "# Pipeline Diagnostics: PCA Preprocessing with k-NN Classification\n",
    "\n",
    "*Personal education project exploring how dimensionality reduction interacts with neighborhood-based classifiers.*"
   ]
  },
  {
   "cell_type": "markdown",
   "id": "1b9cc98b",
   "metadata": {},
   "source": [
    "## Why this notebook exists\n",
    "\n",
    "I wanted a self-contained playground that explains why we often wrap preprocessing and modeling steps inside a single `Pipeline`, and how that affects the evaluation workflow. By the end, I should be able to articulate what PCA contributes (feature transformation) versus what the k-NN classifier contributes (decision making), and use empirical evidence to decide whether the PCA step is worth its complexity."
   ]
  },
  {
   "cell_type": "markdown",
   "id": "8a1d3d68",
   "metadata": {},
   "source": [
    "## Experiment roadmap\n",
    "\n",
    "1. Load and tidy a medium-sized classification dataset.\n",
    "2. Run a quick baseline with raw features.\n",
    "3. Introduce a pipeline that bundles scaling, PCA, and k-NN.\n",
    "4. Benchmark both approaches with cross-validation and a hold-out test set.\n",
    "5. Visualize variance captured by principal components to interpret the trade-offs.\n",
    "6. Summarize lessons learned for future model selection work."
   ]
  },
  {
   "cell_type": "code",
   "execution_count": 9,
   "id": "8074bff0",
   "metadata": {},
   "outputs": [],
   "source": [
    "# Core scientific Python stack\n",
    "import numpy as np\n",
    "import pandas as pd\n",
    "\n",
    "# Plotting utilities\n",
    "import matplotlib.pyplot as plt\n",
    "import seaborn as sns\n",
    "\n",
    "# Scikit-learn helpers\n",
    "from sklearn.datasets import load_wine\n",
    "from sklearn.decomposition import PCA\n",
    "from sklearn.metrics import accuracy_score, classification_report, ConfusionMatrixDisplay\n",
    "from sklearn.model_selection import GridSearchCV, cross_val_score, train_test_split\n",
    "from sklearn.neighbors import KNeighborsClassifier\n",
    "from sklearn.pipeline import Pipeline\n",
    "from sklearn.preprocessing import StandardScaler"
   ]
  },
  {
   "cell_type": "markdown",
   "id": "288ce42e",
   "metadata": {},
   "source": [
    "## Step 1 — Load and inspect the data\n",
    "\n",
    "The Wine dataset strikes a balance between dimensionality (13 numeric features) and interpretability, making it perfect for demonstrating PCA-equipped pipelines."
   ]
  },
  {
   "cell_type": "code",
   "execution_count": 10,
   "id": "62acab6d",
   "metadata": {},
   "outputs": [
    {
     "data": {
      "text/html": [
       "<div>\n",
       "<style scoped>\n",
       "    .dataframe tbody tr th:only-of-type {\n",
       "        vertical-align: middle;\n",
       "    }\n",
       "\n",
       "    .dataframe tbody tr th {\n",
       "        vertical-align: top;\n",
       "    }\n",
       "\n",
       "    .dataframe thead th {\n",
       "        text-align: right;\n",
       "    }\n",
       "</style>\n",
       "<table border=\"1\" class=\"dataframe\">\n",
       "  <thead>\n",
       "    <tr style=\"text-align: right;\">\n",
       "      <th></th>\n",
       "      <th>alcohol</th>\n",
       "      <th>malic_acid</th>\n",
       "      <th>ash</th>\n",
       "      <th>alcalinity_of_ash</th>\n",
       "      <th>magnesium</th>\n",
       "      <th>total_phenols</th>\n",
       "      <th>flavanoids</th>\n",
       "      <th>nonflavanoid_phenols</th>\n",
       "      <th>proanthocyanins</th>\n",
       "      <th>color_intensity</th>\n",
       "      <th>hue</th>\n",
       "      <th>od280/od315_of_diluted_wines</th>\n",
       "      <th>proline</th>\n",
       "    </tr>\n",
       "  </thead>\n",
       "  <tbody>\n",
       "    <tr>\n",
       "      <th>0</th>\n",
       "      <td>14.23</td>\n",
       "      <td>1.71</td>\n",
       "      <td>2.43</td>\n",
       "      <td>15.6</td>\n",
       "      <td>127.0</td>\n",
       "      <td>2.80</td>\n",
       "      <td>3.06</td>\n",
       "      <td>0.28</td>\n",
       "      <td>2.29</td>\n",
       "      <td>5.64</td>\n",
       "      <td>1.04</td>\n",
       "      <td>3.92</td>\n",
       "      <td>1065.0</td>\n",
       "    </tr>\n",
       "    <tr>\n",
       "      <th>1</th>\n",
       "      <td>13.20</td>\n",
       "      <td>1.78</td>\n",
       "      <td>2.14</td>\n",
       "      <td>11.2</td>\n",
       "      <td>100.0</td>\n",
       "      <td>2.65</td>\n",
       "      <td>2.76</td>\n",
       "      <td>0.26</td>\n",
       "      <td>1.28</td>\n",
       "      <td>4.38</td>\n",
       "      <td>1.05</td>\n",
       "      <td>3.40</td>\n",
       "      <td>1050.0</td>\n",
       "    </tr>\n",
       "    <tr>\n",
       "      <th>2</th>\n",
       "      <td>13.16</td>\n",
       "      <td>2.36</td>\n",
       "      <td>2.67</td>\n",
       "      <td>18.6</td>\n",
       "      <td>101.0</td>\n",
       "      <td>2.80</td>\n",
       "      <td>3.24</td>\n",
       "      <td>0.30</td>\n",
       "      <td>2.81</td>\n",
       "      <td>5.68</td>\n",
       "      <td>1.03</td>\n",
       "      <td>3.17</td>\n",
       "      <td>1185.0</td>\n",
       "    </tr>\n",
       "    <tr>\n",
       "      <th>3</th>\n",
       "      <td>14.37</td>\n",
       "      <td>1.95</td>\n",
       "      <td>2.50</td>\n",
       "      <td>16.8</td>\n",
       "      <td>113.0</td>\n",
       "      <td>3.85</td>\n",
       "      <td>3.49</td>\n",
       "      <td>0.24</td>\n",
       "      <td>2.18</td>\n",
       "      <td>7.80</td>\n",
       "      <td>0.86</td>\n",
       "      <td>3.45</td>\n",
       "      <td>1480.0</td>\n",
       "    </tr>\n",
       "    <tr>\n",
       "      <th>4</th>\n",
       "      <td>13.24</td>\n",
       "      <td>2.59</td>\n",
       "      <td>2.87</td>\n",
       "      <td>21.0</td>\n",
       "      <td>118.0</td>\n",
       "      <td>2.80</td>\n",
       "      <td>2.69</td>\n",
       "      <td>0.39</td>\n",
       "      <td>1.82</td>\n",
       "      <td>4.32</td>\n",
       "      <td>1.04</td>\n",
       "      <td>2.93</td>\n",
       "      <td>735.0</td>\n",
       "    </tr>\n",
       "  </tbody>\n",
       "</table>\n",
       "</div>"
      ],
      "text/plain": [
       "   alcohol  malic_acid   ash  alcalinity_of_ash  magnesium  total_phenols  \\\n",
       "0    14.23        1.71  2.43               15.6      127.0           2.80   \n",
       "1    13.20        1.78  2.14               11.2      100.0           2.65   \n",
       "2    13.16        2.36  2.67               18.6      101.0           2.80   \n",
       "3    14.37        1.95  2.50               16.8      113.0           3.85   \n",
       "4    13.24        2.59  2.87               21.0      118.0           2.80   \n",
       "\n",
       "   flavanoids  nonflavanoid_phenols  proanthocyanins  color_intensity   hue  \\\n",
       "0        3.06                  0.28             2.29             5.64  1.04   \n",
       "1        2.76                  0.26             1.28             4.38  1.05   \n",
       "2        3.24                  0.30             2.81             5.68  1.03   \n",
       "3        3.49                  0.24             2.18             7.80  0.86   \n",
       "4        2.69                  0.39             1.82             4.32  1.04   \n",
       "\n",
       "   od280/od315_of_diluted_wines  proline  \n",
       "0                          3.92   1065.0  \n",
       "1                          3.40   1050.0  \n",
       "2                          3.17   1185.0  \n",
       "3                          3.45   1480.0  \n",
       "4                          2.93    735.0  "
      ]
     },
     "metadata": {},
     "output_type": "display_data"
    },
    {
     "name": "stdout",
     "output_type": "stream",
     "text": [
      "Shape: (178, 13)\n",
      "Class distribution:\n",
      "target\n",
      "1    71\n",
      "0    59\n",
      "2    48\n",
      "Name: count, dtype: int64\n"
     ]
    }
   ],
   "source": [
    "wine = load_wine(as_frame=True)\n",
    "X = wine.data\n",
    "y = wine.target\n",
    "\n",
    "display(X.head())\n",
    "print(f'Shape: {X.shape}')\n",
    "print('Class distribution:')\n",
    "print(pd.Series(y).value_counts())"
   ]
  },
  {
   "cell_type": "markdown",
   "id": "e0db5e25",
   "metadata": {},
   "source": [
    "> 📝 **Field note:** The classes are fairly balanced, so accuracy is a reasonable scoring metric. The feature space is also fully numeric, which keeps preprocessing straightforward."
   ]
  },
  {
   "cell_type": "markdown",
   "id": "2afc5f13",
   "metadata": {},
   "source": [
    "## Step 2 — Establish a baseline (k-NN without PCA)\n",
    "\n",
    "Before stacking preprocessing steps, I want a reference point: how well does a basic `StandardScaler` + `KNeighborsClassifier` pipeline perform on its own?"
   ]
  },
  {
   "cell_type": "code",
   "execution_count": 11,
   "id": "2a924d30",
   "metadata": {},
   "outputs": [
    {
     "name": "stdout",
     "output_type": "stream",
     "text": [
      "Baseline k-NN accuracy (CV mean ± std): 0.949 ± 0.038\n"
     ]
    }
   ],
   "source": [
    "baseline_pipeline = Pipeline(\n",
    "    steps=[\n",
    "        ('scaler', StandardScaler()),\n",
    "        ('knn', KNeighborsClassifier(n_neighbors=5)),\n",
    "    ]\n",
    ")\n",
    "baseline_cv = cross_val_score(baseline_pipeline, X, y, cv=5, scoring='accuracy')\n",
    "print('Baseline k-NN accuracy (CV mean ± std): ' f'{baseline_cv.mean():.3f} ± {baseline_cv.std():.3f}')"
   ]
  },
  {
   "cell_type": "markdown",
   "id": "77fa7393",
   "metadata": {},
   "source": [
    "## Step 3 — Build the PCA + k-NN pipeline\n",
    "\n",
    "Here PCA plays the role of **transformer**: it learns a rotation of the feature space and maps each wine sample onto a lower-dimensional set of principled axes. The classifier remains k-NN, which now operates on those transformed coordinates. To mirror my original project, I wrap the pipeline in `GridSearchCV` so hyperparameters for both PCA and k-NN are tuned together."
   ]
  },
  {
   "cell_type": "code",
   "execution_count": 12,
   "id": "56d43e1a",
   "metadata": {},
   "outputs": [
    {
     "name": "stdout",
     "output_type": "stream",
     "text": [
      "Best CV accuracy: 0.972\n",
      "Best params: {'knn__n_neighbors': 7, 'knn__weights': 'uniform', 'pca__n_components': 0.85}\n"
     ]
    }
   ],
   "source": [
    "pca_pipeline = Pipeline(\n",
    "    steps=[\n",
    "        ('scaler', StandardScaler()),\n",
    "        ('pca', PCA(random_state=42)),\n",
    "        ('knn', KNeighborsClassifier()),\n",
    "    ]\n",
    ")\n",
    "param_grid = {\n",
    "    'pca__n_components': [0.85, 0.9, 0.95, None],\n",
    "    'knn__n_neighbors': [3, 5, 7, 9],\n",
    "    'knn__weights': ['uniform', 'distance'],\n",
    "}\n",
    "grid_search = GridSearchCV(\n",
    "    estimator=pca_pipeline,\n",
    "    param_grid=param_grid,\n",
    "    cv=5,\n",
    "    scoring='accuracy',\n",
    "    n_jobs=-1\n",
    ")\n",
    "grid_search.fit(X, y)\n",
    "best_model = grid_search.best_estimator_\n",
    "print(f\"Best CV accuracy: {grid_search.best_score_:.3f}\")\n",
    "print('Best params:', grid_search.best_params_)"
   ]
  },
  {
   "cell_type": "markdown",
   "id": "372dfbcc",
   "metadata": {},
   "source": [
    "> 🔍 **Observation:** PCA may or may not improve cross-validation accuracy—it depends on whether the reduced representation dampens noise more than it discards useful signal. The 95% variance threshold selected here typically keeps 6–7 principal components."
   ]
  },
  {
   "cell_type": "markdown",
   "id": "051c0f29",
   "metadata": {},
   "source": [
    "## Step 4 — Hold-out evaluation and diagnostics\n",
    "\n",
    "Cross-validation is the big picture; a single train/test split provides a closer look at residual errors and confusion patterns."
   ]
  },
  {
   "cell_type": "code",
   "execution_count": 13,
   "id": "2f472da3",
   "metadata": {},
   "outputs": [
    {
     "name": "stdout",
     "output_type": "stream",
     "text": [
      "Test accuracy: 0.956\n",
      "Classification report:\n",
      "              precision    recall  f1-score   support\n",
      "\n",
      "           0       1.00      1.00      1.00        15\n",
      "           1       0.94      0.94      0.94        18\n",
      "           2       0.92      0.92      0.92        12\n",
      "\n",
      "    accuracy                           0.96        45\n",
      "   macro avg       0.95      0.95      0.95        45\n",
      "weighted avg       0.96      0.96      0.96        45\n",
      "\n"
     ]
    },
    {
     "data": {
      "image/png": "[encoded data removed]",
      "text/plain": [
       "<Figure size 640x480 with 2 Axes>"
      ]
     },
     "metadata": {},
     "output_type": "display_data"
    }
   ],
   "source": [
    "X_train, X_test, y_train, y_test = train_test_split(\n",
    "    X, y, test_size=0.25, stratify=y, random_state=42\n",
    ")\n",
    "best_model.fit(X_train, y_train)\n",
    "y_pred = best_model.predict(X_test)\n",
    "test_acc = accuracy_score(y_test, y_pred)\n",
    "print(f'Test accuracy: {test_acc:.3f}')\n",
    "print('Classification report:')\n",
    "print(classification_report(y_test, y_pred))\n",
    "ConfusionMatrixDisplay.from_predictions(y_test, y_pred, cmap='Blues')\n",
    "plt.title('PCA + k-NN confusion matrix (test split)')\n",
    "plt.show()"
   ]
  },
  {
   "cell_type": "markdown",
   "id": "3e9d6541",
   "metadata": {},
   "source": [
    "> 🧠 **Interpretation:** The `score` reported by the pipeline corresponds to the classifier at the end (`knn`), while PCA shapes the feature space that classifier sees. Any performance change between the baseline and this pipeline should be attributed to how that transformation alters neighborhood relationships."
   ]
  },
  {
   "cell_type": "markdown",
   "id": "38bc4e5c",
   "metadata": {},
   "source": [
    "## Step 5 — How many components are we keeping?\n",
    "\n",
    "PCA with `n_components=0.95` keeps the smallest number of components that capture 95% of the variance. Visualizing the cumulative explained variance helps justify that choice. This step ties the model selection story together: it shows how aggressive we can be with dimensionality reduction before accuracy starts to suffer, and it explains why the best hyperparameters returned by the grid search settle on a particular variance threshold."
   ]
  },
  {
   "cell_type": "code",
   "execution_count": 15,
   "id": "45169edb",
   "metadata": {},
   "outputs": [
    {
     "data": {
      "image/png": "[encoded data removed]",
      "text/plain": [
       "<Figure size 800x400 with 1 Axes>"
      ]
     },
     "metadata": {},
     "output_type": "display_data"
    }
   ],
   "source": [
    "scaler = StandardScaler()\n",
    "X_scaled = scaler.fit_transform(X)\n",
    "full_pca = PCA().fit(X_scaled)\n",
    "cumulative_variance = np.cumsum(full_pca.explained_variance_ratio_)\n",
    "plt.figure(figsize=(8, 4))\n",
    "plt.plot(range(1, len(cumulative_variance) + 1), cumulative_variance, marker='o', label='Cumulative explained variance')\n",
    "plt.axhline(0.95, color='red', linestyle='--', label='95% variance threshold')\n",
    "plt.xlabel('Number of components')\n",
    "plt.ylabel('Cumulative explained variance')\n",
    "plt.title('Explained variance by principal components')\n",
    "plt.legend(loc='lower right')\n",
    "plt.show()"
   ]
  },
  {
   "cell_type": "markdown",
   "id": "64d22269",
   "metadata": {},
   "source": [
    "> 🎯 **Takeaway:** In this dataset, retaining about half the original dimensions preserves most variance, so k-NN can operate in a denser space with less noise. On higher-dimensional problems the gap is even larger, making PCA a valuable preprocessing step."
   ]
  },
  {
   "cell_type": "markdown",
   "id": "26e236c5",
   "metadata": {},
   "source": [
    "## What I learned\n",
    "\n",
    "- Pipelines let me encapsulate preprocessing so that every cross-validation fold treats PCA the same way—no leakage, no manual juggling.\n",
    "- PCA is best viewed as a *transformer*: it refits on the training data each time and produces features for the downstream estimator, but it does not own the final prediction objective.\n",
    "- Comparing baseline and PCA-enhanced pipelines clarifies whether dimensionality reduction helps a specific classifier. On the Wine dataset, it slightly improves stability while keeping accuracy competitive.\n",
    "- The explained-variance curve is a quick sanity check to ensure the retained components align with expectations."
   ]
  },
  {
   "cell_type": "markdown",
   "id": "729318fe",
   "metadata": {},
   "source": [
    "## Next steps\n",
    "\n",
    "1. Tune `n_neighbors` alongside the PCA variance threshold using `GridSearchCV`.\n",
    "2. Swap k-NN for a different estimator (e.g., logistic regression) to see how linear models behave.\n",
    "3. Try a dataset with thousands of features (e.g., gene expression) to stress-test the dimensionality reduction benefits."
   ]
  }
 ],
 "metadata": {
  "kernelspec": {
   "display_name": "ml",
   "language": "python",
   "name": "python3"
  },
  "language_info": {
   "codemirror_mode": {
    "name": "ipython",
    "version": 3
   },
   "file_extension": ".py",
   "mimetype": "text/x-python",
   "name": "python",
   "nbconvert_exporter": "python",
   "pygments_lexer": "ipython3",
   "version": "3.12.3"
  }
 },
 "nbformat": 4,
 "nbformat_minor": 5
}
